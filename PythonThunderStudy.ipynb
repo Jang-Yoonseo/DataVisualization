{
 "cells": [
  {
   "cell_type": "code",
   "execution_count": 1,
   "id": "5762f488-92d0-4f13-a3b9-34009f9e4546",
   "metadata": {},
   "outputs": [],
   "source": [
    "import numpy as np"
   ]
  },
  {
   "cell_type": "markdown",
   "id": "3044e31e-1997-428c-a313-7a4ed66830c5",
   "metadata": {},
   "source": [
    "## Numpy 길라잡이 1"
   ]
  },
  {
   "cell_type": "markdown",
   "id": "4d2a35f3-b6f4-4523-b9ac-8d3d3c94dde5",
   "metadata": {},
   "source": [
    "### 넘파이 어레이 선언"
   ]
  },
  {
   "cell_type": "code",
   "execution_count": 3,
   "id": "640d6be5-941e-4df5-b83a-fc32835af6d5",
   "metadata": {},
   "outputs": [
    {
     "data": {
      "text/plain": [
       "array([1, 2, 3, 4])"
      ]
     },
     "execution_count": 3,
     "metadata": {},
     "output_type": "execute_result"
    }
   ],
   "source": [
    "a= np.array([1,2,3,4])\n",
    "a"
   ]
  },
  {
   "cell_type": "code",
   "execution_count": 4,
   "id": "2c4c1213-09ff-4f02-b1f6-f09a98689cb1",
   "metadata": {},
   "outputs": [
    {
     "data": {
      "text/plain": [
       "(4,)"
      ]
     },
     "execution_count": 4,
     "metadata": {},
     "output_type": "execute_result"
    }
   ],
   "source": [
    "a.shape #열벡터를 떠올리면 이해가 좀 더 쉬울지도?"
   ]
  },
  {
   "cell_type": "code",
   "execution_count": 5,
   "id": "8f380ed6-336b-43ae-a3da-60843c1eb5a0",
   "metadata": {},
   "outputs": [
    {
     "data": {
      "text/plain": [
       "(array([2, 3, 4, 5]), array([2, 4, 6, 8]), array([0.5, 1. , 1.5, 2. ]))"
      ]
     },
     "execution_count": 5,
     "metadata": {},
     "output_type": "execute_result"
    }
   ],
   "source": [
    "a+1,a*2,a/2"
   ]
  },
  {
   "cell_type": "markdown",
   "id": "21bffcb7-da20-4d38-ac10-9dcbcedc0d01",
   "metadata": {},
   "source": [
    "### 넘파이 어레이 인덱싱 기초"
   ]
  },
  {
   "cell_type": "markdown",
   "id": "9b430bff-f5b7-4683-9133-4fef65c2a14b",
   "metadata": {},
   "source": [
    "#### 1차원 어레이"
   ]
  },
  {
   "cell_type": "code",
   "execution_count": 6,
   "id": "47cd1167-b1f6-41b5-8e7a-cd19f61fd053",
   "metadata": {},
   "outputs": [
    {
     "data": {
      "text/plain": [
       "array([1, 2, 3, 4])"
      ]
     },
     "execution_count": 6,
     "metadata": {},
     "output_type": "execute_result"
    }
   ],
   "source": [
    "a"
   ]
  },
  {
   "cell_type": "code",
   "execution_count": 7,
   "id": "8a2aba8c-6724-485f-a580-48d42ccd36fc",
   "metadata": {},
   "outputs": [
    {
     "data": {
      "text/plain": [
       "(1, 2, 3, 4, 4, 3, 2, 1)"
      ]
     },
     "execution_count": 7,
     "metadata": {},
     "output_type": "execute_result"
    }
   ],
   "source": [
    "a[0],a[1],a[2],a[3],a[-1],a[-2],a[-3],a[-4] #일반 리스트와 얼추 비슷"
   ]
  },
  {
   "cell_type": "markdown",
   "id": "24444ed2-356f-48be-bf4f-5213b4152aa2",
   "metadata": {},
   "source": [
    "리스트 스트라이딩"
   ]
  },
  {
   "cell_type": "code",
   "execution_count": 8,
   "id": "b9d007e1-f090-4840-ac68-c9269c55cb1e",
   "metadata": {},
   "outputs": [
    {
     "data": {
      "text/plain": [
       "array([2, 3])"
      ]
     },
     "execution_count": 8,
     "metadata": {},
     "output_type": "execute_result"
    }
   ],
   "source": [
    "a[1:3] #2 번 부터 4번 전까지 (반 열린집함을 떠올리면 편함)"
   ]
  },
  {
   "cell_type": "code",
   "execution_count": 9,
   "id": "abbe65b8-444c-459b-a80e-90d2b7616a27",
   "metadata": {},
   "outputs": [],
   "source": [
    "#a를 조금만 더 확장 해보도록하겠음\n",
    "a = np.array([11,22,33,44,55,66])"
   ]
  },
  {
   "cell_type": "markdown",
   "id": "cbf86bca-41ec-418c-838c-71a918f1889e",
   "metadata": {},
   "source": [
    "정수 배열에 의한 인덱싱"
   ]
  },
  {
   "cell_type": "code",
   "execution_count": 10,
   "id": "e0b6daf5-e383-43c5-ad78-022970b88ee6",
   "metadata": {},
   "outputs": [
    {
     "data": {
      "text/plain": [
       "array([11, 33, 55])"
      ]
     },
     "execution_count": 10,
     "metadata": {},
     "output_type": "execute_result"
    }
   ],
   "source": [
    "a[[0,2,4]] #꺾쇠 하나면 호출 안됨, 이유는 차원때메 그런듯"
   ]
  },
  {
   "cell_type": "markdown",
   "id": "4bc32bc7-fe82-4ca1-979f-b1e797f69961",
   "metadata": {},
   "source": [
    "Bool 을 통한 인덱싱"
   ]
  },
  {
   "cell_type": "code",
   "execution_count": 11,
   "id": "657fc393-5c85-404b-9371-81e772e68172",
   "metadata": {},
   "outputs": [
    {
     "data": {
      "text/plain": [
       "array([11, 22, 33, 55])"
      ]
     },
     "execution_count": 11,
     "metadata": {},
     "output_type": "execute_result"
    }
   ],
   "source": [
    "a[[True,True,True,False,True,False]] #잘 되는 모습"
   ]
  },
  {
   "cell_type": "code",
   "execution_count": 12,
   "id": "6e3b9494-11a3-4698-a030-f9b840a0643d",
   "metadata": {},
   "outputs": [
    {
     "ename": "IndexError",
     "evalue": "boolean index did not match indexed array along dimension 0; dimension is 6 but corresponding boolean dimension is 5",
     "output_type": "error",
     "traceback": [
      "\u001b[1;31m---------------------------------------------------------------------------\u001b[0m",
      "\u001b[1;31mIndexError\u001b[0m                                Traceback (most recent call last)",
      "Input \u001b[1;32mIn [12]\u001b[0m, in \u001b[0;36m<cell line: 1>\u001b[1;34m()\u001b[0m\n\u001b[1;32m----> 1\u001b[0m \u001b[43ma\u001b[49m\u001b[43m[\u001b[49m\u001b[43m[\u001b[49m\u001b[38;5;28;43;01mTrue\u001b[39;49;00m\u001b[43m,\u001b[49m\u001b[38;5;28;43;01mTrue\u001b[39;49;00m\u001b[43m,\u001b[49m\u001b[38;5;28;43;01mTrue\u001b[39;49;00m\u001b[43m,\u001b[49m\u001b[38;5;28;43;01mFalse\u001b[39;49;00m\u001b[43m,\u001b[49m\u001b[38;5;28;43;01mTrue\u001b[39;49;00m\u001b[43m]\u001b[49m\u001b[43m]\u001b[49m\n",
      "\u001b[1;31mIndexError\u001b[0m: boolean index did not match indexed array along dimension 0; dimension is 6 but corresponding boolean dimension is 5"
     ]
    }
   ],
   "source": [
    "a[[True,True,True,False,True]] #갯수 안맞으면 안되는 모습"
   ]
  },
  {
   "cell_type": "code",
   "execution_count": null,
   "id": "71af9402-5899-46e8-a9ff-99706421c384",
   "metadata": {},
   "outputs": [],
   "source": [
    "a < 33 #참 거짓을 나타내주는 논리 연산자"
   ]
  },
  {
   "cell_type": "code",
   "execution_count": null,
   "id": "d87b29aa-ed0c-4d49-ad5c-f954cd5cd721",
   "metadata": {},
   "outputs": [],
   "source": [
    "a[a<33] #논리 연산자의 결괏값은 결국 Bool"
   ]
  },
  {
   "cell_type": "markdown",
   "id": "8b5c5f65-8956-4119-9171-b35bd09fd5d8",
   "metadata": {},
   "source": [
    "#### 2차원 어레이"
   ]
  },
  {
   "cell_type": "code",
   "execution_count": null,
   "id": "d720690a-f00d-4eb8-8ed9-ccd72f759f8b",
   "metadata": {},
   "outputs": [],
   "source": [
    "A = [[1,2,3,4],[-1,-2,-3,-4],[5,6,7,8],[-5,-6,-7,-8]]\n",
    "A2 = np.array(A)\n",
    "A2"
   ]
  },
  {
   "cell_type": "code",
   "execution_count": null,
   "id": "5d2effcb-09cd-43d5-9fdb-41ebe2a0188c",
   "metadata": {},
   "outputs": [],
   "source": [
    "A2.shape #4행 4열 2차원인 모습"
   ]
  },
  {
   "cell_type": "code",
   "execution_count": null,
   "id": "6baf2c47-0746-4efe-afc3-0ef300ca91a8",
   "metadata": {},
   "outputs": [],
   "source": [
    "A #그냥 파이썬 기본 기능 중첩리스트"
   ]
  },
  {
   "cell_type": "markdown",
   "id": "e800becc-67d6-4582-a68b-58ae01a1bfc1",
   "metadata": {},
   "source": [
    "#### 2차원 어레이 인덱싱"
   ]
  },
  {
   "cell_type": "code",
   "execution_count": null,
   "id": "d3cd1253-71f3-4d6a-8a1e-58c1064bb428",
   "metadata": {},
   "outputs": [],
   "source": [
    "A2[0][0], A[0][0] #같은값"
   ]
  },
  {
   "cell_type": "code",
   "execution_count": null,
   "id": "a836fc0b-eca8-42e1-a636-aa856154fc4f",
   "metadata": {},
   "outputs": [],
   "source": [
    "A2[0][1], A[0][1] #같은값"
   ]
  },
  {
   "cell_type": "code",
   "execution_count": null,
   "id": "8b95fcc5-12d6-48ea-9995-5112ad831234",
   "metadata": {},
   "outputs": [],
   "source": [
    "A2[-1][0], A[-1][0] #같은값"
   ]
  },
  {
   "cell_type": "code",
   "execution_count": null,
   "id": "946d8ac5-bc5a-42a5-9b97-c181cb0f9d7a",
   "metadata": {},
   "outputs": [],
   "source": [
    "A2[1,1] #넘파이 어레이는 잘 됨"
   ]
  },
  {
   "cell_type": "code",
   "execution_count": null,
   "id": "fab7f848-f9db-4eec-85d2-69e97b674d72",
   "metadata": {},
   "outputs": [],
   "source": [
    "A[1,1] #얜 안됨"
   ]
  },
  {
   "cell_type": "code",
   "execution_count": null,
   "id": "b02be582-7776-49ab-8f50-1d19401b3b6d",
   "metadata": {},
   "outputs": [],
   "source": [
    "#정수 배열을 통한 인덱싱과 스트라이딩\n",
    "#참고로 넘파이 어레이만 되는 기능\n",
    "A2[0,0:2]"
   ]
  },
  {
   "cell_type": "code",
   "execution_count": null,
   "id": "3981d0c4-583f-4308-9b02-79bdfd571672",
   "metadata": {},
   "outputs": [],
   "source": [
    "A2[0].shape #1행"
   ]
  },
  {
   "cell_type": "code",
   "execution_count": null,
   "id": "b7437c82-64b8-4df2-ae88-12d1ea9a5a02",
   "metadata": {},
   "outputs": [],
   "source": [
    "A2[0,:].shape #얘도 1행 , 1행의 모든 열 원소 호출 = 1행"
   ]
  },
  {
   "cell_type": "code",
   "execution_count": null,
   "id": "36b68908-4aec-4dc5-a01d-4608205f68f0",
   "metadata": {},
   "outputs": [],
   "source": [
    "A2[[0,2],:] #1,3행"
   ]
  },
  {
   "cell_type": "code",
   "execution_count": null,
   "id": "c4a80cfb-1576-47ed-a4c9-36b10df1902e",
   "metadata": {},
   "outputs": [],
   "source": [
    "A2[[0,2]]"
   ]
  },
  {
   "cell_type": "code",
   "execution_count": null,
   "id": "4afcf278-92ce-4cb5-b070-64166153be54",
   "metadata": {},
   "outputs": [],
   "source": [
    "#그냥 팁 꺾쇠를 겹쳐 쓰면 차원을 보존할 수가 있다"
   ]
  },
  {
   "cell_type": "code",
   "execution_count": null,
   "id": "d672cc4c-0a23-4a40-a744-3ccdd0e9ca1e",
   "metadata": {},
   "outputs": [],
   "source": [
    "A2[[1],0] #얘는 넘파이 어레이 크기 1짜리"
   ]
  },
  {
   "cell_type": "code",
   "execution_count": null,
   "id": "b110d4ad-d452-4317-bc65-a488b06baf54",
   "metadata": {},
   "outputs": [],
   "source": [
    "A2[1,0] #얘는 스칼랏값, 차원이 보존되지 않았다"
   ]
  },
  {
   "cell_type": "code",
   "execution_count": null,
   "id": "01c8fecd-5082-4653-9aee-1b477838c2d1",
   "metadata": {},
   "outputs": [],
   "source": [
    "A2[:,0] # 1열 단순 나열 (1차원)"
   ]
  },
  {
   "cell_type": "code",
   "execution_count": null,
   "id": "1a278459-95f7-4862-975f-dc9407253ebf",
   "metadata": {},
   "outputs": [],
   "source": [
    "A2[:,[0]] # 1열 , 차원이 2차원으로 보존(꺽쇠 두개들가있음)"
   ]
  },
  {
   "cell_type": "code",
   "execution_count": null,
   "id": "4f5f64d1-c643-4c69-a05c-3f19fa498c91",
   "metadata": {},
   "outputs": [],
   "source": [
    "A2[:,[0,2]] # 1열, 3열 "
   ]
  },
  {
   "cell_type": "code",
   "execution_count": null,
   "id": "8ec611c9-7db8-430f-b0fe-009c4ee7797f",
   "metadata": {},
   "outputs": [],
   "source": [
    "A2[0:2,[0,2]] #1,2행과 1열,3열 좌표"
   ]
  },
  {
   "cell_type": "code",
   "execution_count": null,
   "id": "f3e8c2eb-efa1-404e-aaa5-8817614043c6",
   "metadata": {},
   "outputs": [],
   "source": [
    "A2[0:2,0:3] #그냥 해봄"
   ]
  },
  {
   "cell_type": "markdown",
   "id": "70d09f91-f07b-4b51-90f6-afdab550d125",
   "metadata": {},
   "source": [
    "#### 꼭 np.array()를 리스트로만 받아야 하나?"
   ]
  },
  {
   "cell_type": "markdown",
   "id": "779c4180-3500-4f55-8d04-15f739ef5113",
   "metadata": {},
   "source": [
    "`a`: 아니다"
   ]
  },
  {
   "cell_type": "code",
   "execution_count": 13,
   "id": "eae9f958-0772-420c-8c28-9f2779bf799f",
   "metadata": {},
   "outputs": [
    {
     "data": {
      "text/plain": [
       "array([1, 2, 3])"
      ]
     },
     "execution_count": 13,
     "metadata": {},
     "output_type": "execute_result"
    }
   ],
   "source": [
    "np.array((1,2,3)) #튜플 가능"
   ]
  },
  {
   "cell_type": "markdown",
   "id": "1a9ccaa7-f5a2-4416-ade2-0242f7a17b1c",
   "metadata": {},
   "source": [
    "#### 특정 값을 지닌 넘파이 어레이를 만들어주는 메서드"
   ]
  },
  {
   "cell_type": "code",
   "execution_count": 14,
   "id": "687cb569-0426-491d-b264-690cc04a1931",
   "metadata": {},
   "outputs": [
    {
     "data": {
      "text/plain": [
       "array([0., 0., 0.])"
      ]
     },
     "execution_count": 14,
     "metadata": {},
     "output_type": "execute_result"
    }
   ],
   "source": [
    "np.zeros(3) #영벡터"
   ]
  },
  {
   "cell_type": "code",
   "execution_count": 15,
   "id": "22d0877c-7520-42fa-9f01-b7b7dc452afe",
   "metadata": {},
   "outputs": [
    {
     "data": {
      "text/plain": [
       "array([1., 1., 1., 1.])"
      ]
     },
     "execution_count": 15,
     "metadata": {},
     "output_type": "execute_result"
    }
   ],
   "source": [
    "np.ones(4) # 모든 원소가 1인 4차원짜리 벡터"
   ]
  },
  {
   "cell_type": "code",
   "execution_count": 16,
   "id": "f3f2a9b4-35b8-45d1-90dd-b5ce4e9e294e",
   "metadata": {},
   "outputs": [
    {
     "data": {
      "text/plain": [
       "array([0.        , 0.09090909, 0.18181818, 0.27272727, 0.36363636,\n",
       "       0.45454545, 0.54545455, 0.63636364, 0.72727273, 0.81818182,\n",
       "       0.90909091, 1.        ])"
      ]
     },
     "execution_count": 16,
     "metadata": {},
     "output_type": "execute_result"
    }
   ],
   "source": [
    "np.linspace(0,1,12) #0부터 1까지 12개로 쪼개기 길이도 12임"
   ]
  },
  {
   "cell_type": "code",
   "execution_count": 17,
   "id": "7c33bbc1-ef35-49c0-ac6b-3eca0d0e9f87",
   "metadata": {},
   "outputs": [
    {
     "data": {
      "text/plain": [
       "array([0, 1, 2, 3, 4, 5, 6, 7, 8, 9])"
      ]
     },
     "execution_count": 17,
     "metadata": {},
     "output_type": "execute_result"
    }
   ],
   "source": [
    "np.arange(10)"
   ]
  },
  {
   "cell_type": "code",
   "execution_count": 18,
   "id": "85e1a9ea-8e36-436b-a1f5-2d82f5540418",
   "metadata": {},
   "outputs": [
    {
     "data": {
      "text/plain": [
       "array([0, 1, 2, 3, 4, 5, 6, 7, 8, 9])"
      ]
     },
     "execution_count": 18,
     "metadata": {},
     "output_type": "execute_result"
    }
   ],
   "source": [
    "np.array(range(10)) #같은 기능이다"
   ]
  },
  {
   "cell_type": "markdown",
   "id": "91fa267c-375f-4ebd-890d-5ac31df8fbe3",
   "metadata": {},
   "source": [
    "### Reshape"
   ]
  },
  {
   "cell_type": "code",
   "execution_count": 22,
   "id": "41d7e97b-161a-4828-9783-d4042820df9e",
   "metadata": {},
   "outputs": [
    {
     "data": {
      "text/plain": [
       "array([[11, 22, 33],\n",
       "       [44, 55, 66]])"
      ]
     },
     "execution_count": 22,
     "metadata": {},
     "output_type": "execute_result"
    }
   ],
   "source": [
    "a.reshape(2,3)"
   ]
  },
  {
   "cell_type": "code",
   "execution_count": 24,
   "id": "aabbee23-fe53-4ce0-a894-52d95f754155",
   "metadata": {},
   "outputs": [
    {
     "data": {
      "text/plain": [
       "array([11, 22, 33, 44, 55, 66])"
      ]
     },
     "execution_count": 24,
     "metadata": {},
     "output_type": "execute_result"
    }
   ],
   "source": [
    "a #저장이 되는 기능이 아님.. 변수를 새로 선언 해야함"
   ]
  },
  {
   "cell_type": "code",
   "execution_count": 26,
   "id": "80580c74-29a0-4c67-8075-0174777286fe",
   "metadata": {},
   "outputs": [
    {
     "data": {
      "text/plain": [
       "array([[11, 22, 33],\n",
       "       [44, 55, 66]])"
      ]
     },
     "execution_count": 26,
     "metadata": {},
     "output_type": "execute_result"
    }
   ],
   "source": [
    "a_rshpd = a.reshape(2,3)\n",
    "a_rshpd"
   ]
  },
  {
   "cell_type": "code",
   "execution_count": 27,
   "id": "7ce95bea-acb2-4f85-8140-07644c57d1c8",
   "metadata": {},
   "outputs": [
    {
     "data": {
      "text/plain": [
       "array([11, 22, 33, 44, 55, 66])"
      ]
     },
     "execution_count": 27,
     "metadata": {},
     "output_type": "execute_result"
    }
   ],
   "source": [
    "a_rshpd.reshape(-1) # 원상 복귀"
   ]
  },
  {
   "cell_type": "markdown",
   "id": "74f16007-97a7-4df0-9100-cba92b01aae5",
   "metadata": {},
   "source": [
    "#### -1을 이용한 reshape"
   ]
  },
  {
   "cell_type": "code",
   "execution_count": 30,
   "id": "458ba120-5040-4815-9a5b-431d661b4795",
   "metadata": {},
   "outputs": [
    {
     "data": {
      "text/plain": [
       "array([ 0,  1,  2,  3,  4,  5,  6,  7,  8,  9, 10, 11, 12, 13, 14, 15, 16,\n",
       "       17, 18, 19, 20, 21, 22, 23])"
      ]
     },
     "execution_count": 30,
     "metadata": {},
     "output_type": "execute_result"
    }
   ],
   "source": [
    "a= np.arange(24)\n",
    "a"
   ]
  },
  {
   "cell_type": "code",
   "execution_count": 31,
   "id": "215c4561-7ace-4bd5-96bd-27f3c037dd5a",
   "metadata": {},
   "outputs": [
    {
     "data": {
      "text/plain": [
       "array([[ 0,  1,  2,  3,  4,  5],\n",
       "       [ 6,  7,  8,  9, 10, 11],\n",
       "       [12, 13, 14, 15, 16, 17],\n",
       "       [18, 19, 20, 21, 22, 23]])"
      ]
     },
     "execution_count": 31,
     "metadata": {},
     "output_type": "execute_result"
    }
   ],
   "source": [
    "a.reshape(4,-1)"
   ]
  },
  {
   "cell_type": "code",
   "execution_count": 32,
   "id": "1492834e-23f3-4b75-9fda-4ac26a4911de",
   "metadata": {},
   "outputs": [
    {
     "data": {
      "text/plain": [
       "array([[ 0,  1,  2,  3],\n",
       "       [ 4,  5,  6,  7],\n",
       "       [ 8,  9, 10, 11],\n",
       "       [12, 13, 14, 15],\n",
       "       [16, 17, 18, 19],\n",
       "       [20, 21, 22, 23]])"
      ]
     },
     "execution_count": 32,
     "metadata": {},
     "output_type": "execute_result"
    }
   ],
   "source": [
    "a.reshape(6,-1)"
   ]
  },
  {
   "cell_type": "markdown",
   "id": "87bc1ec4-9f76-4a73-9016-cfa166dcad0b",
   "metadata": {},
   "source": [
    "`-` 공배수 단위에서 -1을 함께 넣으면 앞 숫자에 맞춰 reshape해줌"
   ]
  },
  {
   "cell_type": "markdown",
   "id": "a2dcf46e-0bf9-4aed-ba48-ae85959adb46",
   "metadata": {},
   "source": [
    "#### 2차원 배열 선언"
   ]
  },
  {
   "cell_type": "code",
   "execution_count": 36,
   "id": "f531f04f-81bd-4263-a51f-f324209916f1",
   "metadata": {},
   "outputs": [
    {
     "data": {
      "text/plain": [
       "array([[0., 0., 0.],\n",
       "       [0., 0., 0.],\n",
       "       [0., 0., 0.]])"
      ]
     },
     "execution_count": 36,
     "metadata": {},
     "output_type": "execute_result"
    }
   ],
   "source": [
    "np.zeros((3,3)) #영행렬"
   ]
  },
  {
   "cell_type": "code",
   "execution_count": 38,
   "id": "0a32d4ca-3762-486f-8221-872da5703683",
   "metadata": {},
   "outputs": [
    {
     "data": {
      "text/plain": [
       "array([[1., 1., 1.],\n",
       "       [1., 1., 1.],\n",
       "       [1., 1., 1.]])"
      ]
     },
     "execution_count": 38,
     "metadata": {},
     "output_type": "execute_result"
    }
   ],
   "source": [
    "np.ones((3,3)) # 1로만 원소로 이루어진 행렬"
   ]
  },
  {
   "cell_type": "code",
   "execution_count": 40,
   "id": "9726980b-d061-4f2c-bb8f-5412f382d518",
   "metadata": {},
   "outputs": [
    {
     "data": {
      "text/plain": [
       "array([[1., 0., 0., 0.],\n",
       "       [0., 1., 0., 0.],\n",
       "       [0., 0., 1., 0.],\n",
       "       [0., 0., 0., 1.]])"
      ]
     },
     "execution_count": 40,
     "metadata": {},
     "output_type": "execute_result"
    }
   ],
   "source": [
    "np.eye(4) #4x4 단위행렬"
   ]
  },
  {
   "cell_type": "code",
   "execution_count": 42,
   "id": "aa53e51c-f592-4a9c-bb2e-d17cbc65136e",
   "metadata": {},
   "outputs": [
    {
     "data": {
      "text/plain": [
       "array([[ 1,  0,  0,  0],\n",
       "       [ 0,  2,  0,  0],\n",
       "       [ 0,  0,  3,  0],\n",
       "       [ 0,  0,  0, -1]])"
      ]
     },
     "execution_count": 42,
     "metadata": {},
     "output_type": "execute_result"
    }
   ],
   "source": [
    "np.diag([1,2,3,-1]) #안에 있는 argument 만큼의 차원의 대각행렬"
   ]
  },
  {
   "cell_type": "markdown",
   "id": "6fd434ae-bda3-4680-8c4c-42eafcea9b1d",
   "metadata": {},
   "source": [
    "### numpy를 이용한 난수생성"
   ]
  },
  {
   "cell_type": "code",
   "execution_count": 44,
   "id": "1e48c2df-8372-4549-9684-03cf7844a3cd",
   "metadata": {},
   "outputs": [
    {
     "data": {
      "text/plain": [
       "array([-0.22226475, -2.20725764, -0.34544573, -1.28394361,  0.40124846,\n",
       "       -0.31926913,  0.01612964,  0.39066971, -0.83542309,  0.32888646])"
      ]
     },
     "execution_count": 44,
     "metadata": {},
     "output_type": "execute_result"
    }
   ],
   "source": [
    "np.random.randn(10) #표준 정규 분포의 난수 10개"
   ]
  },
  {
   "cell_type": "code",
   "execution_count": 46,
   "id": "787499a8-d745-478d-8e1f-fc3b39a35b9b",
   "metadata": {},
   "outputs": [
    {
     "data": {
      "text/plain": [
       "array([0.32080851, 0.49221091, 0.71895607, 0.75011362, 0.50697294,\n",
       "       0.81474109, 0.74667768, 0.78577036, 0.98459071, 0.38053399])"
      ]
     },
     "execution_count": 46,
     "metadata": {},
     "output_type": "execute_result"
    }
   ],
   "source": [
    "np.random.rand(10) # 0~1사이에서 난수 10개 Uniform distribution"
   ]
  },
  {
   "cell_type": "markdown",
   "id": "f94de53a-f690-420c-bfac-96c2206de1ca",
   "metadata": {},
   "source": [
    "`-` 난수를 생성함과 동시에 차원을 만들어보자"
   ]
  },
  {
   "cell_type": "code",
   "execution_count": 48,
   "id": "d7f426b9-b856-4fc8-9c9b-64b6e51cfb25",
   "metadata": {},
   "outputs": [
    {
     "data": {
      "text/plain": [
       "array([[-0.46422979,  0.622728  , -1.77122408, -0.21308197, -0.50968175],\n",
       "       [ 1.33199674, -0.9406342 ,  0.39775098,  0.81742168,  0.03491051]])"
      ]
     },
     "execution_count": 48,
     "metadata": {},
     "output_type": "execute_result"
    }
   ],
   "source": [
    "np.random.randn(10).reshape(2,5)"
   ]
  },
  {
   "cell_type": "markdown",
   "id": "698e0039-7090-4e90-a953-736ae179c8f8",
   "metadata": {},
   "source": [
    "### 행렬에 관련된 Numpy의 기능"
   ]
  },
  {
   "cell_type": "code",
   "execution_count": 52,
   "id": "b1d22371-6d82-4b08-ba8b-dd1d0c3c1cc1",
   "metadata": {},
   "outputs": [
    {
     "data": {
      "text/plain": [
       "array([[0, 1],\n",
       "       [2, 3]])"
      ]
     },
     "execution_count": 52,
     "metadata": {},
     "output_type": "execute_result"
    }
   ],
   "source": [
    "A = np.arange(4).reshape(2,2)\n",
    "A"
   ]
  },
  {
   "cell_type": "code",
   "execution_count": 54,
   "id": "5620e8c7-7763-48ea-b7b5-0a9ea6d33fbf",
   "metadata": {},
   "outputs": [
    {
     "data": {
      "text/plain": [
       "array([[0, 2],\n",
       "       [1, 3]])"
      ]
     },
     "execution_count": 54,
     "metadata": {},
     "output_type": "execute_result"
    }
   ],
   "source": [
    "A.T #전치행렬"
   ]
  },
  {
   "cell_type": "code",
   "execution_count": 56,
   "id": "8c83b4ff-8a3c-4013-8f66-0718b5f1c243",
   "metadata": {},
   "outputs": [
    {
     "data": {
      "text/plain": [
       "array([[-1.5,  0.5],\n",
       "       [ 1. ,  0. ]])"
      ]
     },
     "execution_count": 56,
     "metadata": {},
     "output_type": "execute_result"
    }
   ],
   "source": [
    "np.linalg.inv(A) # 앞의 메서드는 역행렬을 구해줌"
   ]
  },
  {
   "cell_type": "markdown",
   "id": "89850c87-24d7-4cee-a34b-977976c78e95",
   "metadata": {},
   "source": [
    "## Numpy 길라잡이 2"
   ]
  },
  {
   "cell_type": "code",
   "execution_count": 59,
   "id": "3efbcbef-006e-4a7b-9d27-f2f3cf38be63",
   "metadata": {},
   "outputs": [
    {
     "data": {
      "text/plain": [
       "array([[0, 1, 1, 1],\n",
       "       [1, 0, 1, 1],\n",
       "       [1, 1, 0, 1],\n",
       "       [1, 1, 1, 0]])"
      ]
     },
     "execution_count": 59,
     "metadata": {},
     "output_type": "execute_result"
    }
   ],
   "source": [
    "A = np.array([[0,1,1,1],[1,0,1,1],[1,1,0,1],[1,1,1,0]])\n",
    "A"
   ]
  },
  {
   "cell_type": "code",
   "execution_count": 60,
   "id": "71b2fe71-24db-4ff0-a62c-6713284ee3c6",
   "metadata": {},
   "outputs": [
    {
     "data": {
      "text/plain": [
       "array([1., 1., 1., 1.])"
      ]
     },
     "execution_count": 60,
     "metadata": {},
     "output_type": "execute_result"
    }
   ],
   "source": [
    "np.linalg.inv(A)@np.array([3,3,3,3])"
   ]
  },
  {
   "cell_type": "code",
   "execution_count": 61,
   "id": "326f541d-c1c9-451d-9b23-959a2c9949f5",
   "metadata": {},
   "outputs": [
    {
     "data": {
      "text/plain": [
       "array([[0],\n",
       "       [1],\n",
       "       [2],\n",
       "       [3]])"
      ]
     },
     "execution_count": 61,
     "metadata": {},
     "output_type": "execute_result"
    }
   ],
   "source": [
    "np.arange(4).reshape(4,1)"
   ]
  },
  {
   "cell_type": "markdown",
   "id": "28f377be-c2d6-433d-ad4f-e0c2c42aa42e",
   "metadata": {},
   "source": [
    "`-` 행렬곱"
   ]
  },
  {
   "cell_type": "markdown",
   "id": "87e52ff7-4990-417b-9b21-9423f4de78a6",
   "metadata": {},
   "source": [
    "행렬곱은 앞 행렬의 열의 갯수와 뒷 행렬의 행의 갯수를 맞추는 것이 일반적이다."
   ]
  },
  {
   "cell_type": "code",
   "execution_count": 67,
   "id": "c2ff4d24-8cf7-4963-9d42-f0fa02a5a9ff",
   "metadata": {},
   "outputs": [
    {
     "data": {
      "text/plain": [
       "array([[ 5],\n",
       "       [11]])"
      ]
     },
     "execution_count": 67,
     "metadata": {},
     "output_type": "execute_result"
    }
   ],
   "source": [
    "A = np.array([1,2,3,4]).reshape(2,2) \n",
    "b = np.array([1,2]).reshape(2,1) \n",
    "A@b"
   ]
  },
  {
   "cell_type": "code",
   "execution_count": 68,
   "id": "ac288b6c-096f-451f-99a6-ba34cf8bb030",
   "metadata": {},
   "outputs": [
    {
     "data": {
      "text/plain": [
       "((2, 2), (2, 1), (2, 1))"
      ]
     },
     "execution_count": 68,
     "metadata": {},
     "output_type": "execute_result"
    }
   ],
   "source": [
    "A.shape, b.shape, (A@b).shape"
   ]
  },
  {
   "cell_type": "code",
   "execution_count": 69,
   "id": "46547e2b-26fe-4428-88dd-ef8da8b81111",
   "metadata": {},
   "outputs": [
    {
     "data": {
      "text/plain": [
       "array([[ 7, 10]])"
      ]
     },
     "execution_count": 69,
     "metadata": {},
     "output_type": "execute_result"
    }
   ],
   "source": [
    "A = np.array([1,2,3,4]).reshape(2,2) \n",
    "b = np.array([1,2]).reshape(1,2) \n",
    "b@A "
   ]
  },
  {
   "cell_type": "code",
   "execution_count": 70,
   "id": "651ed6d7-e8b9-4749-8451-6fe4f8719b8c",
   "metadata": {},
   "outputs": [
    {
     "data": {
      "text/plain": [
       "((2, 2), (1, 2), (1, 2))"
      ]
     },
     "execution_count": 70,
     "metadata": {},
     "output_type": "execute_result"
    }
   ],
   "source": [
    "A.shape, b.shape, (b@A).shape"
   ]
  },
  {
   "cell_type": "code",
   "execution_count": 71,
   "id": "35c07031-226c-4e5a-9c87-aa99d7e244d2",
   "metadata": {},
   "outputs": [
    {
     "ename": "ValueError",
     "evalue": "matmul: Input operand 1 has a mismatch in its core dimension 0, with gufunc signature (n?,k),(k,m?)->(n?,m?) (size 2 is different from 1)",
     "output_type": "error",
     "traceback": [
      "\u001b[1;31m---------------------------------------------------------------------------\u001b[0m",
      "\u001b[1;31mValueError\u001b[0m                                Traceback (most recent call last)",
      "Input \u001b[1;32mIn [71]\u001b[0m, in \u001b[0;36m<cell line: 3>\u001b[1;34m()\u001b[0m\n\u001b[0;32m      1\u001b[0m A \u001b[38;5;241m=\u001b[39m np\u001b[38;5;241m.\u001b[39marray([\u001b[38;5;241m1\u001b[39m,\u001b[38;5;241m2\u001b[39m,\u001b[38;5;241m3\u001b[39m,\u001b[38;5;241m4\u001b[39m])\u001b[38;5;241m.\u001b[39mreshape(\u001b[38;5;241m2\u001b[39m,\u001b[38;5;241m2\u001b[39m) \n\u001b[0;32m      2\u001b[0m b \u001b[38;5;241m=\u001b[39m np\u001b[38;5;241m.\u001b[39marray([\u001b[38;5;241m1\u001b[39m,\u001b[38;5;241m2\u001b[39m])\u001b[38;5;241m.\u001b[39mreshape(\u001b[38;5;241m2\u001b[39m,\u001b[38;5;241m1\u001b[39m) \n\u001b[1;32m----> 3\u001b[0m \u001b[43mb\u001b[49m\u001b[38;5;129;43m@A\u001b[39;49m\n",
      "\u001b[1;31mValueError\u001b[0m: matmul: Input operand 1 has a mismatch in its core dimension 0, with gufunc signature (n?,k),(k,m?)->(n?,m?) (size 2 is different from 1)"
     ]
    }
   ],
   "source": [
    "A = np.array([1,2,3,4]).reshape(2,2) \n",
    "b = np.array([1,2]).reshape(2,1) \n",
    "b@A #성립하지 않을 것이다."
   ]
  },
  {
   "cell_type": "markdown",
   "id": "e654361b-5f9b-4125-a39b-4e51b33cdf70",
   "metadata": {},
   "source": [
    "근데 행렬곱을 할 때 쓰이는 '@' 는 벡터와 사용시 어느정도 유연성을 부여한다"
   ]
  },
  {
   "cell_type": "code",
   "execution_count": 73,
   "id": "8557e804-6920-43fb-8a1f-49b431fab7db",
   "metadata": {},
   "outputs": [
    {
     "data": {
      "text/plain": [
       "array([ 5, 11])"
      ]
     },
     "execution_count": 73,
     "metadata": {},
     "output_type": "execute_result"
    }
   ],
   "source": [
    "A = np.array([1,2,3,4]).reshape(2,2)\n",
    "b = np.array([1,2]) \n",
    "A@b"
   ]
  },
  {
   "cell_type": "code",
   "execution_count": 75,
   "id": "c3534340-1a71-4a52-ac51-c1248cde8002",
   "metadata": {},
   "outputs": [
    {
     "data": {
      "text/plain": [
       "((2, 2), (2,), (2,))"
      ]
     },
     "execution_count": 75,
     "metadata": {},
     "output_type": "execute_result"
    }
   ],
   "source": [
    "A.shape , b.shape , (A@b).shape"
   ]
  },
  {
   "cell_type": "markdown",
   "id": "c4f527e6-54b1-4165-bf51-e20a8878167d",
   "metadata": {},
   "source": [
    "`-` 위에선 b라는 벡터를 2*1 행렬로 본 듯 하다"
   ]
  },
  {
   "cell_type": "code",
   "execution_count": 78,
   "id": "9ac72b24-ba9f-4920-9ffd-e0fe846a50c7",
   "metadata": {},
   "outputs": [
    {
     "data": {
      "text/plain": [
       "array([ 7, 10])"
      ]
     },
     "execution_count": 78,
     "metadata": {},
     "output_type": "execute_result"
    }
   ],
   "source": [
    "b@A"
   ]
  },
  {
   "cell_type": "code",
   "execution_count": 79,
   "id": "802be7f3-8dbb-4fb8-8e67-735d56c355d5",
   "metadata": {},
   "outputs": [
    {
     "data": {
      "text/plain": [
       "((2, 2), (2,), (2,))"
      ]
     },
     "execution_count": 79,
     "metadata": {},
     "output_type": "execute_result"
    }
   ],
   "source": [
    "A.shape , b.shape , (b@A).shape"
   ]
  },
  {
   "cell_type": "markdown",
   "id": "a4478481-7261-4c6d-905b-2c6d7bab9306",
   "metadata": {},
   "source": [
    "2x2 @ 2x1로 해석한 후 (2,)로 만든 것 같다"
   ]
  },
  {
   "cell_type": "markdown",
   "id": "619f6772-8595-491e-9377-8eaa4c9d8a6e",
   "metadata": {},
   "source": [
    "1차원 짜리 벡터에 차원의 유연성을 주었다고 볼 수 있다"
   ]
  },
  {
   "cell_type": "code",
   "execution_count": 84,
   "id": "9f9d1a27-f957-40f9-a26c-52077b72ac72",
   "metadata": {},
   "outputs": [
    {
     "data": {
      "text/plain": [
       "30"
      ]
     },
     "execution_count": 84,
     "metadata": {},
     "output_type": "execute_result"
    }
   ],
   "source": [
    "b1 = np.array([1,2,3,4])\n",
    "b2 = np.array([1,2,3,4])\n",
    "b1@b2"
   ]
  },
  {
   "cell_type": "code",
   "execution_count": 85,
   "id": "d0baf859-1158-4357-b3db-0309da454afc",
   "metadata": {},
   "outputs": [
    {
     "data": {
      "text/plain": [
       "((4,), (4,), ())"
      ]
     },
     "execution_count": 85,
     "metadata": {},
     "output_type": "execute_result"
    }
   ],
   "source": [
    "b1.shape , b2.shape , (b1@b2).shape"
   ]
  },
  {
   "cell_type": "markdown",
   "id": "ac113d63-d595-4521-ba43-384b460f3c21",
   "metadata": {},
   "source": [
    "1x4 @ 4x1 로 보고 내적을 시행한 것 같다"
   ]
  },
  {
   "cell_type": "markdown",
   "id": "a6f116c8-a46f-4967-9fa2-c35a09f76fc2",
   "metadata": {},
   "source": [
    "4x1 @ 1x4로 행렬을 내고 싶다면?"
   ]
  },
  {
   "cell_type": "code",
   "execution_count": 90,
   "id": "3148ca19-d1f5-4dcd-b999-fd46f81e08fd",
   "metadata": {},
   "outputs": [
    {
     "data": {
      "text/plain": [
       "array([[ 1,  2,  3,  4],\n",
       "       [ 2,  4,  6,  8],\n",
       "       [ 3,  6,  9, 12],\n",
       "       [ 4,  8, 12, 16]])"
      ]
     },
     "execution_count": 90,
     "metadata": {},
     "output_type": "execute_result"
    }
   ],
   "source": [
    "b1_ = b1.reshape(4,1)\n",
    "b2_ = b2.reshape(1,4)\n",
    "b1_@b2_ #직접 Reshape 을 해준 다음에 보아야한다."
   ]
  },
  {
   "cell_type": "markdown",
   "id": "a45de7fa-39e6-4e55-9e26-48d2cae65c72",
   "metadata": {},
   "source": [
    "`-` 재미는 없는데 재미있는 점"
   ]
  },
  {
   "cell_type": "code",
   "execution_count": 92,
   "id": "2a6600d6-43d3-467f-895d-a9cbebbf38c8",
   "metadata": {},
   "outputs": [
    {
     "data": {
      "text/plain": [
       "30"
      ]
     },
     "execution_count": 92,
     "metadata": {},
     "output_type": "execute_result"
    }
   ],
   "source": [
    "b1@b2"
   ]
  },
  {
   "cell_type": "code",
   "execution_count": 93,
   "id": "5bca4d5b-a69a-4183-b8c3-0a001cf29145",
   "metadata": {},
   "outputs": [
    {
     "data": {
      "text/plain": [
       "array([[30]])"
      ]
     },
     "execution_count": 93,
     "metadata": {},
     "output_type": "execute_result"
    }
   ],
   "source": [
    "b1.reshape(1,4)@b2.reshape(4,1)"
   ]
  },
  {
   "cell_type": "markdown",
   "id": "979c93c1-c816-4642-b1ca-d8546c60c70a",
   "metadata": {},
   "source": [
    "`-` 굳이 reshape를 써주면 차원이 보존된다"
   ]
  },
  {
   "cell_type": "code",
   "execution_count": 96,
   "id": "d6e1162d-c4e4-47df-bfe4-61d6f2515db9",
   "metadata": {},
   "outputs": [
    {
     "data": {
      "text/plain": [
       "((), (1, 1))"
      ]
     },
     "execution_count": 96,
     "metadata": {},
     "output_type": "execute_result"
    }
   ],
   "source": [
    "(b1@b2).shape, (b1.reshape(1,4)@b2.reshape(4,1)).shape"
   ]
  },
  {
   "cell_type": "markdown",
   "id": "43f78aba-fe0f-4410-a09b-abcd1b7bddf1",
   "metadata": {},
   "source": [
    "### 차원"
   ]
  },
  {
   "cell_type": "markdown",
   "id": "901d6253-751d-4181-9634-32789dd9ac6c",
   "metadata": {},
   "source": [
    "`-` 넘파이 어레이의 차원을 확인하고 싶다면 .shape를 써버리면 그만이다."
   ]
  },
  {
   "cell_type": "code",
   "execution_count": 99,
   "id": "db0ef9e0-292d-4e25-bae4-1319166e6293",
   "metadata": {},
   "outputs": [
    {
     "data": {
      "text/plain": [
       "array([ 0,  1,  2,  3,  4,  5,  6,  7,  8,  9, 10, 11, 12, 13, 14, 15, 16,\n",
       "       17, 18, 19, 20, 21, 22, 23])"
      ]
     },
     "execution_count": 99,
     "metadata": {},
     "output_type": "execute_result"
    }
   ],
   "source": [
    "a"
   ]
  },
  {
   "cell_type": "code",
   "execution_count": 101,
   "id": "42903aa9-ff51-424a-8abb-bf8fd9f5c552",
   "metadata": {},
   "outputs": [
    {
     "data": {
      "text/plain": [
       "(24,)"
      ]
     },
     "execution_count": 101,
     "metadata": {},
     "output_type": "execute_result"
    }
   ],
   "source": [
    "a.shape #24짜리 열벡터로 보는 것이 맘이 편할듯 하다"
   ]
  },
  {
   "cell_type": "markdown",
   "id": "f3070e2b-d80e-445c-a2b2-981e3e9ded2d",
   "metadata": {},
   "source": [
    "`-` 차원의 미묘함을 느껴보자"
   ]
  },
  {
   "cell_type": "code",
   "execution_count": 108,
   "id": "f3969dda-df2e-4ef6-8882-6e3c3e4dfb3f",
   "metadata": {},
   "outputs": [
    {
     "data": {
      "text/plain": [
       "(array(3.14), ())"
      ]
     },
     "execution_count": 108,
     "metadata": {},
     "output_type": "execute_result"
    }
   ],
   "source": [
    "a= np.array(3.14) #0 차원\n",
    "a,a.shape"
   ]
  },
  {
   "cell_type": "code",
   "execution_count": 109,
   "id": "d0be2ed1-d2b5-4356-9c10-dc766dc64e3f",
   "metadata": {},
   "outputs": [
    {
     "data": {
      "text/plain": [
       "(array([3.14]), (1,))"
      ]
     },
     "execution_count": 109,
     "metadata": {},
     "output_type": "execute_result"
    }
   ],
   "source": [
    "a= np.array([3.14]) #1차원\n",
    "a,a.shape"
   ]
  },
  {
   "cell_type": "code",
   "execution_count": 110,
   "id": "eb8560a4-7a45-40d7-9834-80b99d1aa57c",
   "metadata": {},
   "outputs": [
    {
     "data": {
      "text/plain": [
       "(array([[3.14]]), (1, 1))"
      ]
     },
     "execution_count": 110,
     "metadata": {},
     "output_type": "execute_result"
    }
   ],
   "source": [
    "a= np.array([[3.14]]) #2차원\n",
    "a, a.shape"
   ]
  },
  {
   "cell_type": "markdown",
   "id": "5013bff2-f39d-4d96-b63d-4b4096245abb",
   "metadata": {},
   "source": [
    "### 축 #Axis"
   ]
  },
  {
   "cell_type": "markdown",
   "id": "7d11cd7f-96d8-430f-bfc2-9549e95978c1",
   "metadata": {},
   "source": [
    "### Concatenate"
   ]
  },
  {
   "cell_type": "markdown",
   "id": "f61830e1-3351-4864-8766-acc26401acf9",
   "metadata": {},
   "source": [
    "### 1차원"
   ]
  },
  {
   "cell_type": "code",
   "execution_count": 120,
   "id": "76098b15-e0f6-4498-852c-c02c2e652126",
   "metadata": {},
   "outputs": [],
   "source": [
    "a= np.array([1,2])\n",
    "b= -a"
   ]
  },
  {
   "cell_type": "code",
   "execution_count": 114,
   "id": "e618d0d5-4b8f-446c-b35e-52933d39d6d4",
   "metadata": {},
   "outputs": [
    {
     "data": {
      "text/plain": [
       "((2,), (2,))"
      ]
     },
     "execution_count": 114,
     "metadata": {},
     "output_type": "execute_result"
    }
   ],
   "source": [
    "a.shape , b.shape"
   ]
  },
  {
   "cell_type": "code",
   "execution_count": 116,
   "id": "6fd95329-81a8-4d41-b1c4-0b133d73afd3",
   "metadata": {},
   "outputs": [
    {
     "data": {
      "text/plain": [
       "(array([ 1,  2, -1, -2]), (4,))"
      ]
     },
     "execution_count": 116,
     "metadata": {},
     "output_type": "execute_result"
    }
   ],
   "source": [
    "np.concatenate([a,b]) , np.concatenate([a,b]).shape"
   ]
  },
  {
   "cell_type": "code",
   "execution_count": 117,
   "id": "35918160-6bdd-4b41-8fd3-75bcebd63e4d",
   "metadata": {},
   "outputs": [],
   "source": [
    "a=np.array([1,2])\n",
    "b=-a \n",
    "c=np.array([3,4,5])"
   ]
  },
  {
   "cell_type": "code",
   "execution_count": 118,
   "id": "1decba2f-0e09-4f8f-9f07-5ab6422e95ad",
   "metadata": {},
   "outputs": [
    {
     "data": {
      "text/plain": [
       "(array([ 1,  2, -1, -2,  3,  4,  5]), (7,))"
      ]
     },
     "execution_count": 118,
     "metadata": {},
     "output_type": "execute_result"
    }
   ],
   "source": [
    "np.concatenate([a,b,c]) , np.concatenate([a,b,c]).shape"
   ]
  },
  {
   "cell_type": "markdown",
   "id": "51028979-279c-43ec-ae04-8f1f323e1ccd",
   "metadata": {},
   "source": [
    "#### 2차원"
   ]
  },
  {
   "cell_type": "code",
   "execution_count": 122,
   "id": "278fd5e5-4465-4200-81da-7cb02d081a34",
   "metadata": {},
   "outputs": [],
   "source": [
    "a = np.arange(4).reshape(2,2)\n",
    "b= -a"
   ]
  },
  {
   "cell_type": "code",
   "execution_count": 130,
   "id": "aa37b4a9-4b42-4587-87ab-75d80d54a736",
   "metadata": {},
   "outputs": [
    {
     "data": {
      "text/plain": [
       "(array([[ 0,  1],\n",
       "        [ 2,  3],\n",
       "        [ 0, -1],\n",
       "        [-2, -3]]),\n",
       " (4, 2))"
      ]
     },
     "execution_count": 130,
     "metadata": {},
     "output_type": "execute_result"
    }
   ],
   "source": [
    "np.concatenate([a,b]), np.concatenate([a,b]).shape"
   ]
  },
  {
   "cell_type": "markdown",
   "id": "2d5525d6-42a2-4ec7-9012-24c91ca70f98",
   "metadata": {},
   "source": [
    "`관찰:` 2행2열 , 2행2열 -> 4행 2열"
   ]
  },
  {
   "cell_type": "code",
   "execution_count": 131,
   "id": "dc1cca53-00fa-4340-bf4f-1d46cbf89213",
   "metadata": {},
   "outputs": [
    {
     "data": {
      "text/plain": [
       "(array([[ 0,  1,  0, -1],\n",
       "        [ 2,  3, -2, -3]]),\n",
       " (2, 4))"
      ]
     },
     "execution_count": 131,
     "metadata": {},
     "output_type": "execute_result"
    }
   ],
   "source": [
    "np.concatenate([a,b],axis = 1), np.concatenate([a,b],axis = 1).shape "
   ]
  },
  {
   "cell_type": "markdown",
   "id": "35346b81-cd99-452c-bceb-3226b7750588",
   "metadata": {},
   "source": [
    "`관찰:` 2행 2열 , 2행 2열 -> 2행 4열"
   ]
  },
  {
   "cell_type": "markdown",
   "id": "c9d60669-8e67-4c0f-9bbd-127ae9d83dc4",
   "metadata": {},
   "source": [
    "0이라는 axis를 사용한다면 행에 붙고 \n",
    "\n",
    "1이라는 axis를 사용한다면 열에 붙는 것 처럼 보임"
   ]
  },
  {
   "cell_type": "markdown",
   "id": "1c1ec7db-a3a7-4dda-8a91-37003c66ac50",
   "metadata": {},
   "source": [
    "또한 Axis의 값은 차원의 갯수를 넘을 수 없다."
   ]
  },
  {
   "cell_type": "markdown",
   "id": "69141dad-1fbb-42f0-89c1-74543fd62e1b",
   "metadata": {},
   "source": [
    "### 확장"
   ]
  },
  {
   "cell_type": "code",
   "execution_count": 135,
   "id": "66ed299d-689b-43a6-b461-9ea13e0eb71b",
   "metadata": {},
   "outputs": [
    {
     "data": {
      "text/plain": [
       "(array([[[ 0,  1,  2,  3],\n",
       "         [ 4,  5,  6,  7],\n",
       "         [ 8,  9, 10, 11]],\n",
       " \n",
       "        [[12, 13, 14, 15],\n",
       "         [16, 17, 18, 19],\n",
       "         [20, 21, 22, 23]]]),\n",
       " (2, 3, 4))"
      ]
     },
     "execution_count": 135,
     "metadata": {},
     "output_type": "execute_result"
    }
   ],
   "source": [
    "a=np.array(range(2*3*4)).reshape(2,3,4)\n",
    "a, a.shape"
   ]
  },
  {
   "cell_type": "code",
   "execution_count": 136,
   "id": "1bd2d281-98f6-4907-a61e-f07e6404db0c",
   "metadata": {},
   "outputs": [],
   "source": [
    "b= -a"
   ]
  },
  {
   "cell_type": "code",
   "execution_count": 137,
   "id": "d151a9e9-24cf-4f20-9719-37a9eeedea20",
   "metadata": {},
   "outputs": [
    {
     "data": {
      "text/plain": [
       "(array([[[  0,  -1,  -2,  -3],\n",
       "         [ -4,  -5,  -6,  -7],\n",
       "         [ -8,  -9, -10, -11]],\n",
       " \n",
       "        [[-12, -13, -14, -15],\n",
       "         [-16, -17, -18, -19],\n",
       "         [-20, -21, -22, -23]]]),\n",
       " (2, 3, 4))"
      ]
     },
     "execution_count": 137,
     "metadata": {},
     "output_type": "execute_result"
    }
   ],
   "source": [
    "b, b.shape"
   ]
  },
  {
   "cell_type": "code",
   "execution_count": 142,
   "id": "b6298378-7e75-48f8-ac1f-8570576e9fa7",
   "metadata": {},
   "outputs": [
    {
     "data": {
      "text/plain": [
       "(array([[[  0,   1,   2,   3],\n",
       "         [  4,   5,   6,   7],\n",
       "         [  8,   9,  10,  11]],\n",
       " \n",
       "        [[ 12,  13,  14,  15],\n",
       "         [ 16,  17,  18,  19],\n",
       "         [ 20,  21,  22,  23]],\n",
       " \n",
       "        [[  0,  -1,  -2,  -3],\n",
       "         [ -4,  -5,  -6,  -7],\n",
       "         [ -8,  -9, -10, -11]],\n",
       " \n",
       "        [[-12, -13, -14, -15],\n",
       "         [-16, -17, -18, -19],\n",
       "         [-20, -21, -22, -23]]]),\n",
       " (4, 3, 4))"
      ]
     },
     "execution_count": 142,
     "metadata": {},
     "output_type": "execute_result"
    }
   ],
   "source": [
    "zero_ = np.concatenate([a,b], axis=0 )\n",
    "zero_ , zero_.shape #4덩어리 3행 4열"
   ]
  },
  {
   "cell_type": "code",
   "execution_count": 144,
   "id": "07429ea5-ce22-4c00-8c6f-cea2f911061c",
   "metadata": {},
   "outputs": [
    {
     "data": {
      "text/plain": [
       "(array([[[  0,   1,   2,   3],\n",
       "         [  4,   5,   6,   7],\n",
       "         [  8,   9,  10,  11],\n",
       "         [  0,  -1,  -2,  -3],\n",
       "         [ -4,  -5,  -6,  -7],\n",
       "         [ -8,  -9, -10, -11]],\n",
       " \n",
       "        [[ 12,  13,  14,  15],\n",
       "         [ 16,  17,  18,  19],\n",
       "         [ 20,  21,  22,  23],\n",
       "         [-12, -13, -14, -15],\n",
       "         [-16, -17, -18, -19],\n",
       "         [-20, -21, -22, -23]]]),\n",
       " (2, 6, 4))"
      ]
     },
     "execution_count": 144,
     "metadata": {},
     "output_type": "execute_result"
    }
   ],
   "source": [
    "one_ = np.concatenate([a,b], axis=1)\n",
    "one_ , one_.shape #2덩어리 6행 4열"
   ]
  },
  {
   "cell_type": "code",
   "execution_count": 146,
   "id": "03bfbfb3-6393-4fd2-865c-c1badc9509ca",
   "metadata": {},
   "outputs": [
    {
     "data": {
      "text/plain": [
       "(array([[[  0,   1,   2,   3,   0,  -1,  -2,  -3],\n",
       "         [  4,   5,   6,   7,  -4,  -5,  -6,  -7],\n",
       "         [  8,   9,  10,  11,  -8,  -9, -10, -11]],\n",
       " \n",
       "        [[ 12,  13,  14,  15, -12, -13, -14, -15],\n",
       "         [ 16,  17,  18,  19, -16, -17, -18, -19],\n",
       "         [ 20,  21,  22,  23, -20, -21, -22, -23]]]),\n",
       " (2, 3, 8))"
      ]
     },
     "execution_count": 146,
     "metadata": {},
     "output_type": "execute_result"
    }
   ],
   "source": [
    "two_ = np.concatenate([a,b], axis= 2)\n",
    "two_ , two_.shape #2덩어리 3행 8열"
   ]
  },
  {
   "cell_type": "markdown",
   "id": "e1acb616-a8df-479a-9103-6c30cdb02aba",
   "metadata": {},
   "source": [
    "axis= 는 인덱싱과도 같고 지명하는 부분의 차원을 늘린다"
   ]
  },
  {
   "cell_type": "markdown",
   "id": "1106d7eb-d275-4895-8ca9-cee971debd59",
   "metadata": {},
   "source": [
    "#### 번외"
   ]
  },
  {
   "cell_type": "code",
   "execution_count": 149,
   "id": "67fa14f2-143f-4ae4-a72e-49c01419aba7",
   "metadata": {},
   "outputs": [],
   "source": [
    "a= np.array(1)\n",
    "b= np.array(-1)"
   ]
  },
  {
   "cell_type": "code",
   "execution_count": 150,
   "id": "987f7f8d-50b8-4f62-aef9-719bed9218f4",
   "metadata": {},
   "outputs": [
    {
     "data": {
      "text/plain": [
       "((), ())"
      ]
     },
     "execution_count": 150,
     "metadata": {},
     "output_type": "execute_result"
    }
   ],
   "source": [
    "a.shape , b.shape"
   ]
  },
  {
   "cell_type": "code",
   "execution_count": 152,
   "id": "c74a7456-62d4-4546-92a6-5553f2be46b2",
   "metadata": {},
   "outputs": [
    {
     "ename": "ValueError",
     "evalue": "zero-dimensional arrays cannot be concatenated",
     "output_type": "error",
     "traceback": [
      "\u001b[1;31m---------------------------------------------------------------------------\u001b[0m",
      "\u001b[1;31mValueError\u001b[0m                                Traceback (most recent call last)",
      "Input \u001b[1;32mIn [152]\u001b[0m, in \u001b[0;36m<cell line: 1>\u001b[1;34m()\u001b[0m\n\u001b[1;32m----> 1\u001b[0m \u001b[43mnp\u001b[49m\u001b[38;5;241;43m.\u001b[39;49m\u001b[43mconcatenate\u001b[49m\u001b[43m(\u001b[49m\u001b[43m[\u001b[49m\u001b[43ma\u001b[49m\u001b[43m,\u001b[49m\u001b[43mb\u001b[49m\u001b[43m]\u001b[49m\u001b[43m)\u001b[49m\n",
      "File \u001b[1;32m<__array_function__ internals>:180\u001b[0m, in \u001b[0;36mconcatenate\u001b[1;34m(*args, **kwargs)\u001b[0m\n",
      "\u001b[1;31mValueError\u001b[0m: zero-dimensional arrays cannot be concatenated"
     ]
    }
   ],
   "source": [
    "np.concatenate([a,b]) #지명할 차원이 없다"
   ]
  },
  {
   "cell_type": "markdown",
   "id": "e0154db1-2368-43c8-9781-ee5201ae7656",
   "metadata": {},
   "source": [
    "`-` 꼭 같은 차원이여야만 하나?"
   ]
  },
  {
   "cell_type": "code",
   "execution_count": 154,
   "id": "07addcf2-17e8-41ba-8ccc-d941ef71b8a1",
   "metadata": {},
   "outputs": [],
   "source": [
    "a= np.arange(4).reshape(2,2)\n",
    "b= np.array([5,6]).reshape(2,1)"
   ]
  },
  {
   "cell_type": "code",
   "execution_count": 156,
   "id": "b4bd0d1f-ff14-44b7-8c9e-e4f2c13e8f75",
   "metadata": {},
   "outputs": [
    {
     "data": {
      "text/plain": [
       "array([[0, 1, 5],\n",
       "       [2, 3, 6]])"
      ]
     },
     "execution_count": 156,
     "metadata": {},
     "output_type": "execute_result"
    }
   ],
   "source": [
    "np.concatenate([a,b],axis= 1) #된다"
   ]
  },
  {
   "cell_type": "code",
   "execution_count": 158,
   "id": "21c02780-8a32-4fb4-9a62-1de95fe91d0e",
   "metadata": {},
   "outputs": [
    {
     "ename": "ValueError",
     "evalue": "all the input array dimensions for the concatenation axis must match exactly, but along dimension 1, the array at index 0 has size 2 and the array at index 1 has size 1",
     "output_type": "error",
     "traceback": [
      "\u001b[1;31m---------------------------------------------------------------------------\u001b[0m",
      "\u001b[1;31mValueError\u001b[0m                                Traceback (most recent call last)",
      "Input \u001b[1;32mIn [158]\u001b[0m, in \u001b[0;36m<cell line: 1>\u001b[1;34m()\u001b[0m\n\u001b[1;32m----> 1\u001b[0m \u001b[43mnp\u001b[49m\u001b[38;5;241;43m.\u001b[39;49m\u001b[43mconcatenate\u001b[49m\u001b[43m(\u001b[49m\u001b[43m[\u001b[49m\u001b[43ma\u001b[49m\u001b[43m,\u001b[49m\u001b[43mb\u001b[49m\u001b[43m]\u001b[49m\u001b[43m,\u001b[49m\u001b[43maxis\u001b[49m\u001b[38;5;241;43m=\u001b[39;49m\u001b[43m \u001b[49m\u001b[38;5;241;43m0\u001b[39;49m\u001b[43m)\u001b[49m\n",
      "File \u001b[1;32m<__array_function__ internals>:180\u001b[0m, in \u001b[0;36mconcatenate\u001b[1;34m(*args, **kwargs)\u001b[0m\n",
      "\u001b[1;31mValueError\u001b[0m: all the input array dimensions for the concatenation axis must match exactly, but along dimension 1, the array at index 0 has size 2 and the array at index 1 has size 1"
     ]
    }
   ],
   "source": [
    "np.concatenate([a,b],axis= 0) #안된다"
   ]
  },
  {
   "cell_type": "code",
   "execution_count": 159,
   "id": "2a6c5522-898c-4ea0-a99a-c5f8f76f8c71",
   "metadata": {},
   "outputs": [],
   "source": [
    "a= np.arange(10)\n",
    "b= -a"
   ]
  },
  {
   "cell_type": "code",
   "execution_count": 160,
   "id": "d4448afa-e472-4827-a103-12e493cc04f9",
   "metadata": {},
   "outputs": [
    {
     "data": {
      "text/plain": [
       "((10,), (10,))"
      ]
     },
     "execution_count": 160,
     "metadata": {},
     "output_type": "execute_result"
    }
   ],
   "source": [
    "a.shape, b.shape"
   ]
  },
  {
   "cell_type": "code",
   "execution_count": 164,
   "id": "d0ee3d52-05df-4618-87f8-b2f2c3a5c0a7",
   "metadata": {},
   "outputs": [
    {
     "data": {
      "text/plain": [
       "(array([ 0,  1,  2,  3,  4,  5,  6,  7,  8,  9,  0, -1, -2, -3, -4, -5, -6,\n",
       "        -7, -8, -9]),\n",
       " (20,))"
      ]
     },
     "execution_count": 164,
     "metadata": {},
     "output_type": "execute_result"
    }
   ],
   "source": [
    "np.concatenate([a,b]) , np.concatenate([a,b]).shape"
   ]
  },
  {
   "cell_type": "markdown",
   "id": "cfa8d494-a76e-4c65-840d-b12ce4e76239",
   "metadata": {},
   "source": [
    "### 관심사 : 3개 짜리 벡터를 붙여서 3행 2열을 만들고 싶다\n",
    "\n"
   ]
  },
  {
   "cell_type": "code",
   "execution_count": 167,
   "id": "4e0220e4-be71-40ba-81be-b4ce105d1021",
   "metadata": {},
   "outputs": [],
   "source": [
    "a= np.array([1,2,3])\n",
    "b= -a"
   ]
  },
  {
   "cell_type": "code",
   "execution_count": 169,
   "id": "5370e020-041f-4009-9b48-7cbdb1cae95b",
   "metadata": {},
   "outputs": [
    {
     "data": {
      "text/plain": [
       "array([ 1,  2,  3, -1, -2, -3])"
      ]
     },
     "execution_count": 169,
     "metadata": {},
     "output_type": "execute_result"
    }
   ],
   "source": [
    "np.concatenate([a,b]) #아니고.."
   ]
  },
  {
   "cell_type": "code",
   "execution_count": 171,
   "id": "faeb1248-8f7a-4413-a849-2062ce693c78",
   "metadata": {},
   "outputs": [
    {
     "data": {
      "text/plain": [
       "array([[ 1, -1],\n",
       "       [ 2, -2],\n",
       "       [ 3, -3]])"
      ]
     },
     "execution_count": 171,
     "metadata": {},
     "output_type": "execute_result"
    }
   ],
   "source": [
    "np.concatenate([a.reshape(3,1),b.reshape(3,1)],axis = 1) #성공"
   ]
  },
  {
   "cell_type": "markdown",
   "id": "e0a21e47-a917-47d7-b712-428461e6062f",
   "metadata": {},
   "source": [
    "#### 딱 정하고 가자"
   ]
  },
  {
   "cell_type": "markdown",
   "id": "b68b8c36-d53e-418c-8420-78a915ad506b",
   "metadata": {},
   "source": [
    "차원이 하나인 numpyarray는 (n,)로 차원이 표기 되는데 그냥 1차원 벡터로 이해를 하자. 행이나 열을 부여하게 되면 뭔가 이해가 더뎌진다"
   ]
  },
  {
   "cell_type": "markdown",
   "id": "4859adef-28ab-4fdc-8a87-2bc5e7d2ff86",
   "metadata": {},
   "source": [
    "`관찰:` 저렇게 축을 일일히 reshape 시킨다음에 하려니까 너무 귀찮다."
   ]
  },
  {
   "cell_type": "markdown",
   "id": "f7b9412e-fb8f-4cad-98d3-09cf3a40207a",
   "metadata": {},
   "source": [
    "### Stack"
   ]
  },
  {
   "cell_type": "code",
   "execution_count": 176,
   "id": "4151d6b3-e3eb-4b11-8a09-0991b53ccd15",
   "metadata": {},
   "outputs": [],
   "source": [
    "a=np.array([1,2,3])\n",
    "b=-a"
   ]
  },
  {
   "cell_type": "code",
   "execution_count": 177,
   "id": "b440d9cc-669f-4303-826b-059396b2cc36",
   "metadata": {},
   "outputs": [
    {
     "data": {
      "text/plain": [
       "array([[ 1,  2,  3],\n",
       "       [-1, -2, -3]])"
      ]
     },
     "execution_count": 177,
     "metadata": {},
     "output_type": "execute_result"
    }
   ],
   "source": [
    "np.stack([a,b],axis=0)"
   ]
  },
  {
   "cell_type": "code",
   "execution_count": 178,
   "id": "4d11db8b-a75a-4933-8edf-690fbb3b18d2",
   "metadata": {},
   "outputs": [
    {
     "data": {
      "text/plain": [
       "array([[ 1, -1],\n",
       "       [ 2, -2],\n",
       "       [ 3, -3]])"
      ]
     },
     "execution_count": 178,
     "metadata": {},
     "output_type": "execute_result"
    }
   ],
   "source": [
    "np.stack([a,b], axis = 1)"
   ]
  },
  {
   "cell_type": "markdown",
   "id": "f94e4c6b-cbc9-4c8e-9d5d-3cfd79339b8b",
   "metadata": {},
   "source": [
    "`-` 얘는 concatenate와 달리 차원의 갯수가 늘어버린다"
   ]
  },
  {
   "cell_type": "code",
   "execution_count": 180,
   "id": "163b7956-2569-431e-a2cc-cb6a0423da2e",
   "metadata": {},
   "outputs": [
    {
     "data": {
      "text/plain": [
       "(3,)"
      ]
     },
     "execution_count": 180,
     "metadata": {},
     "output_type": "execute_result"
    }
   ],
   "source": [
    "a.shape"
   ]
  },
  {
   "cell_type": "markdown",
   "id": "ae7281b2-7bec-4596-8c6d-4e765927701a",
   "metadata": {},
   "source": [
    "axis=0으로 설정을 해서 stack을 한 결과 2,3이 되었고, axis=1로 한 결과 3,2 가 되었다"
   ]
  },
  {
   "cell_type": "markdown",
   "id": "4af6a619-0498-4985-a7eb-e3734a2a58e5",
   "metadata": {},
   "source": [
    "axis=0 -> shape의 0번 째 자리에 축이 추가가 되고 거기를 기준으로 붙는다\n",
    "\n",
    "axis =n -> shape의 n번 째 자리에 축이 추가가 되고 거기를 기준으로 붙는다."
   ]
  },
  {
   "cell_type": "code",
   "execution_count": 183,
   "id": "7c6cc59f-430f-4b63-84bb-d2d8d0f455ec",
   "metadata": {},
   "outputs": [],
   "source": [
    "a=np.arange(3*4*5).reshape(3,4,5) \n",
    "b=-a"
   ]
  },
  {
   "cell_type": "code",
   "execution_count": 184,
   "id": "f2955842-ec28-4138-8339-b8b544fb880f",
   "metadata": {},
   "outputs": [],
   "source": [
    "zero__ = np.stack([a,b],axis=0)\n",
    "one__ =np.stack([a,b],axis=1)\n",
    "two__= np.stack([a,b],axis=2)\n",
    "three__ = np.stack([a,b],axis=3)"
   ]
  },
  {
   "cell_type": "code",
   "execution_count": 185,
   "id": "b1109d3a-ba9c-4285-b4ad-9f56c56c964e",
   "metadata": {},
   "outputs": [
    {
     "data": {
      "text/plain": [
       "((2, 3, 4, 5), (3, 2, 4, 5), (3, 4, 2, 5), (3, 4, 5, 2))"
      ]
     },
     "execution_count": 185,
     "metadata": {},
     "output_type": "execute_result"
    }
   ],
   "source": [
    "zero__.shape , one__.shape , two__.shape , three__.shape"
   ]
  },
  {
   "cell_type": "markdown",
   "id": "afc95a39-40de-4464-8291-23097a6875e7",
   "metadata": {},
   "source": [
    "`-` 필히 외울 것 ㅋ"
   ]
  },
  {
   "cell_type": "markdown",
   "id": "a08a252d-3a79-4db6-98cb-0ba1259bc5ad",
   "metadata": {},
   "source": [
    "### Sum"
   ]
  },
  {
   "cell_type": "code",
   "execution_count": 189,
   "id": "cd17c74f-b523-4b5f-9dd2-2833c5c3e87d",
   "metadata": {},
   "outputs": [
    {
     "data": {
      "text/plain": [
       "array([[0, 1],\n",
       "       [2, 3],\n",
       "       [4, 5],\n",
       "       [6, 7],\n",
       "       [8, 9]])"
      ]
     },
     "execution_count": 189,
     "metadata": {},
     "output_type": "execute_result"
    }
   ],
   "source": [
    "a= np.arange(10).reshape(5,2)\n",
    "a"
   ]
  },
  {
   "cell_type": "code",
   "execution_count": 190,
   "id": "2dbb1eae-0cac-4e20-b6c2-e35218c67c0a",
   "metadata": {},
   "outputs": [
    {
     "data": {
      "text/plain": [
       "(array([20, 25]), array([ 1,  5,  9, 13, 17]))"
      ]
     },
     "execution_count": 190,
     "metadata": {},
     "output_type": "execute_result"
    }
   ],
   "source": [
    "a.sum(axis=0) , a.sum(axis= 1)"
   ]
  },
  {
   "cell_type": "markdown",
   "id": "d8bc5e06-d66a-4ef2-a6c2-6635d0ab3f1b",
   "metadata": {},
   "source": [
    "`-` 0은 행을 긁어 합, 1은 열을 긁어 합"
   ]
  },
  {
   "cell_type": "code",
   "execution_count": 192,
   "id": "830fb60a-da0a-4c51-a5f5-42aadccd4e51",
   "metadata": {},
   "outputs": [
    {
     "data": {
      "text/plain": [
       "45"
      ]
     },
     "execution_count": 192,
     "metadata": {},
     "output_type": "execute_result"
    }
   ],
   "source": [
    "a.sum(axis=(0,1)) #행과 열을 다 긁는다면"
   ]
  },
  {
   "cell_type": "markdown",
   "id": "1927abe6-b6e2-4b72-92a5-163ec83f4e78",
   "metadata": {},
   "source": [
    "### Mean"
   ]
  },
  {
   "cell_type": "code",
   "execution_count": 195,
   "id": "90d0c0a1-f032-4619-bd50-ddd2f835e784",
   "metadata": {},
   "outputs": [
    {
     "data": {
      "text/plain": [
       "array([4., 5.])"
      ]
     },
     "execution_count": 195,
     "metadata": {},
     "output_type": "execute_result"
    }
   ],
   "source": [
    "a.mean(axis=0) #행을 긁어 평균, 즉 2개가 나올 것임"
   ]
  },
  {
   "cell_type": "code",
   "execution_count": 196,
   "id": "a8362177-96f9-4112-9d10-776a728873f0",
   "metadata": {},
   "outputs": [
    {
     "data": {
      "text/plain": [
       "array([0.5, 2.5, 4.5, 6.5, 8.5])"
      ]
     },
     "execution_count": 196,
     "metadata": {},
     "output_type": "execute_result"
    }
   ],
   "source": [
    "a.mean(axis= 1 ) #열을 긁어 평균, 즉 5개가 나올 것임"
   ]
  },
  {
   "cell_type": "code",
   "execution_count": 197,
   "id": "6ba4a060-9cb1-4e2b-8614-c653c7df6ac0",
   "metadata": {},
   "outputs": [
    {
     "data": {
      "text/plain": [
       "4.5"
      ]
     },
     "execution_count": 197,
     "metadata": {},
     "output_type": "execute_result"
    }
   ],
   "source": [
    "a.mean()"
   ]
  },
  {
   "cell_type": "code",
   "execution_count": 199,
   "id": "b9802473-08c0-443b-87e8-f986c23b96ca",
   "metadata": {},
   "outputs": [
    {
     "data": {
      "text/plain": [
       "4.5"
      ]
     },
     "execution_count": 199,
     "metadata": {},
     "output_type": "execute_result"
    }
   ],
   "source": [
    "a.mean(axis=(0,1)) #행과 열을 다 긁는다면"
   ]
  },
  {
   "cell_type": "markdown",
   "id": "3f2b4eb6-3744-4b04-a284-827b38ce6323",
   "metadata": {},
   "source": [
    "### Standard deviation"
   ]
  },
  {
   "cell_type": "code",
   "execution_count": 201,
   "id": "c0954b4d-5e6b-4a3b-b628-3bb2c91b2278",
   "metadata": {},
   "outputs": [
    {
     "data": {
      "text/plain": [
       "1.118033988749895"
      ]
     },
     "execution_count": 201,
     "metadata": {},
     "output_type": "execute_result"
    }
   ],
   "source": [
    "a=np.array([1,2,3,4])\n",
    "a.std()"
   ]
  },
  {
   "cell_type": "code",
   "execution_count": 202,
   "id": "be3b95e9-af90-4fd0-858d-b47be2ffba96",
   "metadata": {},
   "outputs": [
    {
     "data": {
      "text/plain": [
       "1.118033988749895"
      ]
     },
     "execution_count": 202,
     "metadata": {},
     "output_type": "execute_result"
    }
   ],
   "source": [
    "np.sqrt(sum((a-a.mean())**2)/4)"
   ]
  },
  {
   "cell_type": "markdown",
   "id": "0ee1fd49-0d08-4960-b242-dc29183280ed",
   "metadata": {},
   "source": [
    "### 표본 표준편차 (자유도 발생)"
   ]
  },
  {
   "cell_type": "code",
   "execution_count": 204,
   "id": "8b134a0f-2f7d-425a-ad19-0803a64cef6b",
   "metadata": {},
   "outputs": [
    {
     "data": {
      "text/plain": [
       "1.2909944487358056"
      ]
     },
     "execution_count": 204,
     "metadata": {},
     "output_type": "execute_result"
    }
   ],
   "source": [
    "a=np.array([1,2,3,4])\n",
    "a.std(ddof=1)"
   ]
  },
  {
   "cell_type": "code",
   "execution_count": 205,
   "id": "82e95211-2bcf-4d19-9e83-a0e3596f275a",
   "metadata": {},
   "outputs": [
    {
     "data": {
      "text/plain": [
       "1.2909944487358056"
      ]
     },
     "execution_count": 205,
     "metadata": {},
     "output_type": "execute_result"
    }
   ],
   "source": [
    "np.sqrt(sum((a-a.mean())**2)/3)"
   ]
  },
  {
   "cell_type": "markdown",
   "id": "2e7219b8-7f30-4ee1-911f-c4db4f6e2fdc",
   "metadata": {},
   "source": [
    "### Argmax, Argmin"
   ]
  },
  {
   "cell_type": "markdown",
   "id": "2e7331d0-741f-46fe-a59c-7e903a76aebc",
   "metadata": {},
   "source": [
    "#### 1차원"
   ]
  },
  {
   "cell_type": "code",
   "execution_count": 213,
   "id": "097e0116-62bb-4747-bd12-0d65977a2c18",
   "metadata": {},
   "outputs": [
    {
     "data": {
      "text/plain": [
       "array([  1,   6,   7,   3,   5,  23, 656])"
      ]
     },
     "execution_count": 213,
     "metadata": {},
     "output_type": "execute_result"
    }
   ],
   "source": [
    "a= np.array([1,6,7,3,5,23,656])\n",
    "a"
   ]
  },
  {
   "cell_type": "code",
   "execution_count": 212,
   "id": "a41103e7-034b-4953-bb4e-fd5f12349c5a",
   "metadata": {},
   "outputs": [
    {
     "data": {
      "text/plain": [
       "(6, 0)"
      ]
     },
     "execution_count": 212,
     "metadata": {},
     "output_type": "execute_result"
    }
   ],
   "source": [
    "a.argmax() , a.argmin() #가장 크거나 작은 것이 있는 위치를 알려준다"
   ]
  },
  {
   "cell_type": "markdown",
   "id": "4d28924c-07b8-40ef-8ad9-7e2d74d23bac",
   "metadata": {},
   "source": [
    "#### 2차원"
   ]
  },
  {
   "cell_type": "code",
   "execution_count": 216,
   "id": "4eb8f0f7-e3bd-4677-ab76-3850d12e6050",
   "metadata": {},
   "outputs": [
    {
     "data": {
      "text/plain": [
       "array([[ 0.38342049,  1.0841745 ,  1.14277825,  0.30789368,  0.23778744],\n",
       "       [ 0.35595116, -1.66307542, -1.38277318, -1.92684484, -1.4862163 ],\n",
       "       [ 0.00692519, -0.03488725, -0.34357323,  0.70895648, -1.55100608],\n",
       "       [ 1.34565583, -0.05654272, -0.83017342, -1.46395159, -0.35459593]])"
      ]
     },
     "execution_count": 216,
     "metadata": {},
     "output_type": "execute_result"
    }
   ],
   "source": [
    "np.random.seed(43052)\n",
    "a=np.random.randn(4*5).reshape(4,5)\n",
    "a"
   ]
  },
  {
   "cell_type": "code",
   "execution_count": 218,
   "id": "3f346022-94c8-41fa-a41b-527da596f56b",
   "metadata": {},
   "outputs": [
    {
     "data": {
      "text/plain": [
       "(15, 8)"
      ]
     },
     "execution_count": 218,
     "metadata": {},
     "output_type": "execute_result"
    }
   ],
   "source": [
    "a.argmax() , a.argmin() #이것도 행과 열을 다 긁어버린 상태로 위치를 내주는 것 같다"
   ]
  },
  {
   "cell_type": "code",
   "execution_count": 220,
   "id": "eb712717-ed80-4fdf-9f7a-9f68d2a93e45",
   "metadata": {},
   "outputs": [
    {
     "data": {
      "text/plain": [
       "(array([3, 0, 0, 2, 0], dtype=int64), array([2, 0, 3, 0], dtype=int64))"
      ]
     },
     "execution_count": 220,
     "metadata": {},
     "output_type": "execute_result"
    }
   ],
   "source": [
    "a.argmax(axis=0) , a.argmax(axis=1) #행 긁어서 최대, 열 긁어서 최소"
   ]
  },
  {
   "cell_type": "code",
   "execution_count": null,
   "id": "f43b290c-b9b3-493b-af0a-98c0fa21d11c",
   "metadata": {},
   "outputs": [],
   "source": []
  }
 ],
 "metadata": {
  "kernelspec": {
   "display_name": "Python 3 (ipykernel)",
   "language": "python",
   "name": "python3"
  },
  "language_info": {
   "codemirror_mode": {
    "name": "ipython",
    "version": 3
   },
   "file_extension": ".py",
   "mimetype": "text/x-python",
   "name": "python",
   "nbconvert_exporter": "python",
   "pygments_lexer": "ipython3",
   "version": "3.9.7"
  }
 },
 "nbformat": 4,
 "nbformat_minor": 5
}
